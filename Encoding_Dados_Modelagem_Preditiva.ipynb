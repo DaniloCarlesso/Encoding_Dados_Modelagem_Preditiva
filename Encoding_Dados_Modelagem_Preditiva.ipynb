{
 "cells": [
  {
   "cell_type": "markdown",
   "id": "20e6276f",
   "metadata": {},
   "source": [
    "# \n",
    "# Análise de Dados Para Traçar Estratégias de Crescimento e Retenção da Base de Clientes"
   ]
  },
  {
   "cell_type": "markdown",
   "id": "722cdc66",
   "metadata": {},
   "source": [
    "## \n",
    "## Introdução e Objetivo da Análise\n",
    "\n",
    "Uma empresa precisa que seja desenvolvido um modelo preditivo capaz de prever o preço de venda de um veículo a partir de dados do modelo do veículo, a kilometragem e a idade (tempo de uso). O objetivo da empresa é aumentar a retenção da base atual de clientes e fornecer uma avaliação mais precisa sobre os carros para os clientes. Como analista de dados nosso objetivo é preparar os dados para modelagem preditiva a fim de obter o modelo mais preciso possível."
   ]
  },
  {
   "cell_type": "markdown",
   "id": "e1d5a149",
   "metadata": {},
   "source": [
    "## \n",
    "## Carregando os Pacotes e Módulos"
   ]
  },
  {
   "cell_type": "code",
   "execution_count": 1,
   "id": "5e5a15dd",
   "metadata": {},
   "outputs": [],
   "source": [
    "# Manipulaçao de dados\n",
    "import pandas as pd\n",
    "import numpy as np\n",
    "\n",
    "# Encoding\n",
    "from sklearn.preprocessing import LabelEncoder\n",
    "from sklearn.preprocessing import OneHotEncoder\n",
    "\n",
    "# Padronização dos dados\n",
    "from sklearn.compose import ColumnTransformer\n",
    "\n",
    "# Machine Learning\n",
    "from sklearn import linear_model\n",
    "\n",
    "# Salvar modelos de ML\n",
    "import joblib\n",
    "\n",
    "# Warnings\n",
    "import warnings\n",
    "warnings.filterwarnings(\"ignore\")"
   ]
  },
  {
   "cell_type": "code",
   "execution_count": 2,
   "id": "14a1cadd",
   "metadata": {},
   "outputs": [
    {
     "name": "stdout",
     "output_type": "stream",
     "text": [
      "Author: Danilo Carlesso\n",
      "\n",
      "numpy  : 1.21.5\n",
      "sklearn: 1.0.2\n",
      "pandas : 1.4.4\n",
      "joblib : 1.1.0\n",
      "\n"
     ]
    }
   ],
   "source": [
    "# Versões do pacotes utilizados nesse projeto\n",
    "%reload_ext watermark\n",
    "%watermark -a \"Danilo Carlesso\" --iversions"
   ]
  },
  {
   "cell_type": "markdown",
   "id": "1f054507",
   "metadata": {},
   "source": [
    "## \n",
    "## Carregando os Dados"
   ]
  },
  {
   "cell_type": "code",
   "execution_count": 3,
   "id": "8f75182b",
   "metadata": {},
   "outputs": [],
   "source": [
    "# Carrega os dados\n",
    "df = pd.read_csv(\"dados/dataset.csv\")"
   ]
  },
  {
   "cell_type": "code",
   "execution_count": 4,
   "id": "e2edc44a",
   "metadata": {},
   "outputs": [
    {
     "data": {
      "text/plain": [
       "(13, 4)"
      ]
     },
     "execution_count": 4,
     "metadata": {},
     "output_type": "execute_result"
    }
   ],
   "source": [
    "# Shape\n",
    "df.shape"
   ]
  },
  {
   "cell_type": "code",
   "execution_count": 5,
   "id": "d0d69a78",
   "metadata": {},
   "outputs": [
    {
     "data": {
      "text/html": [
       "<div>\n",
       "<style scoped>\n",
       "    .dataframe tbody tr th:only-of-type {\n",
       "        vertical-align: middle;\n",
       "    }\n",
       "\n",
       "    .dataframe tbody tr th {\n",
       "        vertical-align: top;\n",
       "    }\n",
       "\n",
       "    .dataframe thead th {\n",
       "        text-align: right;\n",
       "    }\n",
       "</style>\n",
       "<table border=\"1\" class=\"dataframe\">\n",
       "  <thead>\n",
       "    <tr style=\"text-align: right;\">\n",
       "      <th></th>\n",
       "      <th>Modelo</th>\n",
       "      <th>Kilometragem</th>\n",
       "      <th>Preco_Venda</th>\n",
       "      <th>Idade_Veiculo</th>\n",
       "    </tr>\n",
       "  </thead>\n",
       "  <tbody>\n",
       "    <tr>\n",
       "      <th>0</th>\n",
       "      <td>Jaguar F-Type R</td>\n",
       "      <td>69000</td>\n",
       "      <td>18000</td>\n",
       "      <td>6</td>\n",
       "    </tr>\n",
       "    <tr>\n",
       "      <th>1</th>\n",
       "      <td>Jaguar F-Type R</td>\n",
       "      <td>35000</td>\n",
       "      <td>34000</td>\n",
       "      <td>3</td>\n",
       "    </tr>\n",
       "    <tr>\n",
       "      <th>2</th>\n",
       "      <td>Jaguar F-Type R</td>\n",
       "      <td>57000</td>\n",
       "      <td>26100</td>\n",
       "      <td>5</td>\n",
       "    </tr>\n",
       "    <tr>\n",
       "      <th>3</th>\n",
       "      <td>Jaguar F-Type R</td>\n",
       "      <td>22500</td>\n",
       "      <td>40000</td>\n",
       "      <td>2</td>\n",
       "    </tr>\n",
       "    <tr>\n",
       "      <th>4</th>\n",
       "      <td>Jaguar F-Type R</td>\n",
       "      <td>46000</td>\n",
       "      <td>31500</td>\n",
       "      <td>4</td>\n",
       "    </tr>\n",
       "    <tr>\n",
       "      <th>5</th>\n",
       "      <td>Mustang Mach 1</td>\n",
       "      <td>59000</td>\n",
       "      <td>29400</td>\n",
       "      <td>5</td>\n",
       "    </tr>\n",
       "    <tr>\n",
       "      <th>6</th>\n",
       "      <td>Mustang Mach 1</td>\n",
       "      <td>52000</td>\n",
       "      <td>32000</td>\n",
       "      <td>5</td>\n",
       "    </tr>\n",
       "    <tr>\n",
       "      <th>7</th>\n",
       "      <td>Mustang Mach 1</td>\n",
       "      <td>72000</td>\n",
       "      <td>19300</td>\n",
       "      <td>6</td>\n",
       "    </tr>\n",
       "    <tr>\n",
       "      <th>8</th>\n",
       "      <td>Mustang Mach 1</td>\n",
       "      <td>91000</td>\n",
       "      <td>12000</td>\n",
       "      <td>8</td>\n",
       "    </tr>\n",
       "    <tr>\n",
       "      <th>9</th>\n",
       "      <td>Mercedez Benz AMG GLE 53</td>\n",
       "      <td>67000</td>\n",
       "      <td>22000</td>\n",
       "      <td>6</td>\n",
       "    </tr>\n",
       "    <tr>\n",
       "      <th>10</th>\n",
       "      <td>Mercedez Benz AMG GLE 53</td>\n",
       "      <td>83000</td>\n",
       "      <td>20000</td>\n",
       "      <td>7</td>\n",
       "    </tr>\n",
       "    <tr>\n",
       "      <th>11</th>\n",
       "      <td>Mercedez Benz AMG GLE 53</td>\n",
       "      <td>79000</td>\n",
       "      <td>21000</td>\n",
       "      <td>7</td>\n",
       "    </tr>\n",
       "    <tr>\n",
       "      <th>12</th>\n",
       "      <td>Mercedez Benz AMG GLE 53</td>\n",
       "      <td>59000</td>\n",
       "      <td>33000</td>\n",
       "      <td>5</td>\n",
       "    </tr>\n",
       "  </tbody>\n",
       "</table>\n",
       "</div>"
      ],
      "text/plain": [
       "                      Modelo  Kilometragem  Preco_Venda  Idade_Veiculo\n",
       "0            Jaguar F-Type R         69000        18000              6\n",
       "1            Jaguar F-Type R         35000        34000              3\n",
       "2            Jaguar F-Type R         57000        26100              5\n",
       "3            Jaguar F-Type R         22500        40000              2\n",
       "4            Jaguar F-Type R         46000        31500              4\n",
       "5             Mustang Mach 1         59000        29400              5\n",
       "6             Mustang Mach 1         52000        32000              5\n",
       "7             Mustang Mach 1         72000        19300              6\n",
       "8             Mustang Mach 1         91000        12000              8\n",
       "9   Mercedez Benz AMG GLE 53         67000        22000              6\n",
       "10  Mercedez Benz AMG GLE 53         83000        20000              7\n",
       "11  Mercedez Benz AMG GLE 53         79000        21000              7\n",
       "12  Mercedez Benz AMG GLE 53         59000        33000              5"
      ]
     },
     "execution_count": 5,
     "metadata": {},
     "output_type": "execute_result"
    }
   ],
   "source": [
    "# Visualizando os dados\n",
    "df"
   ]
  },
  {
   "cell_type": "code",
   "execution_count": 6,
   "id": "e142971a",
   "metadata": {},
   "outputs": [
    {
     "name": "stdout",
     "output_type": "stream",
     "text": [
      "<class 'pandas.core.frame.DataFrame'>\n",
      "RangeIndex: 13 entries, 0 to 12\n",
      "Data columns (total 4 columns):\n",
      " #   Column         Non-Null Count  Dtype \n",
      "---  ------         --------------  ----- \n",
      " 0   Modelo         13 non-null     object\n",
      " 1   Kilometragem   13 non-null     int64 \n",
      " 2   Preco_Venda    13 non-null     int64 \n",
      " 3   Idade_Veiculo  13 non-null     int64 \n",
      "dtypes: int64(3), object(1)\n",
      "memory usage: 544.0+ bytes\n"
     ]
    }
   ],
   "source": [
    "# Tipo dos dados\n",
    "df.info()"
   ]
  },
  {
   "cell_type": "markdown",
   "id": "a486dee2",
   "metadata": {},
   "source": [
    "##  \n",
    "## Aplicando Label Encoding"
   ]
  },
  {
   "cell_type": "code",
   "execution_count": 7,
   "id": "68a301fe",
   "metadata": {},
   "outputs": [],
   "source": [
    "# Copia o df original\n",
    "le_df = df.copy()"
   ]
  },
  {
   "cell_type": "code",
   "execution_count": 8,
   "id": "119b4693",
   "metadata": {},
   "outputs": [],
   "source": [
    "# Cria o objeto de Label Encoding\n",
    "le = LabelEncoder()"
   ]
  },
  {
   "cell_type": "code",
   "execution_count": 9,
   "id": "166760a1",
   "metadata": {},
   "outputs": [],
   "source": [
    "# Aplica o Label Encoding a variável\n",
    "le_df[\"ModeloCod\"] = le.fit_transform(le_df[\"Modelo\"])"
   ]
  },
  {
   "cell_type": "code",
   "execution_count": 10,
   "id": "241923a0",
   "metadata": {},
   "outputs": [],
   "source": [
    "# Remove a variável original\n",
    "le_df.drop(columns=[\"Modelo\"], inplace=True)"
   ]
  },
  {
   "cell_type": "code",
   "execution_count": 11,
   "id": "f79203f1",
   "metadata": {},
   "outputs": [
    {
     "data": {
      "text/html": [
       "<div>\n",
       "<style scoped>\n",
       "    .dataframe tbody tr th:only-of-type {\n",
       "        vertical-align: middle;\n",
       "    }\n",
       "\n",
       "    .dataframe tbody tr th {\n",
       "        vertical-align: top;\n",
       "    }\n",
       "\n",
       "    .dataframe thead th {\n",
       "        text-align: right;\n",
       "    }\n",
       "</style>\n",
       "<table border=\"1\" class=\"dataframe\">\n",
       "  <thead>\n",
       "    <tr style=\"text-align: right;\">\n",
       "      <th></th>\n",
       "      <th>Kilometragem</th>\n",
       "      <th>Preco_Venda</th>\n",
       "      <th>Idade_Veiculo</th>\n",
       "      <th>ModeloCod</th>\n",
       "    </tr>\n",
       "  </thead>\n",
       "  <tbody>\n",
       "    <tr>\n",
       "      <th>0</th>\n",
       "      <td>69000</td>\n",
       "      <td>18000</td>\n",
       "      <td>6</td>\n",
       "      <td>0</td>\n",
       "    </tr>\n",
       "    <tr>\n",
       "      <th>1</th>\n",
       "      <td>35000</td>\n",
       "      <td>34000</td>\n",
       "      <td>3</td>\n",
       "      <td>0</td>\n",
       "    </tr>\n",
       "    <tr>\n",
       "      <th>2</th>\n",
       "      <td>57000</td>\n",
       "      <td>26100</td>\n",
       "      <td>5</td>\n",
       "      <td>0</td>\n",
       "    </tr>\n",
       "    <tr>\n",
       "      <th>3</th>\n",
       "      <td>22500</td>\n",
       "      <td>40000</td>\n",
       "      <td>2</td>\n",
       "      <td>0</td>\n",
       "    </tr>\n",
       "    <tr>\n",
       "      <th>4</th>\n",
       "      <td>46000</td>\n",
       "      <td>31500</td>\n",
       "      <td>4</td>\n",
       "      <td>0</td>\n",
       "    </tr>\n",
       "  </tbody>\n",
       "</table>\n",
       "</div>"
      ],
      "text/plain": [
       "   Kilometragem  Preco_Venda  Idade_Veiculo  ModeloCod\n",
       "0         69000        18000              6          0\n",
       "1         35000        34000              3          0\n",
       "2         57000        26100              5          0\n",
       "3         22500        40000              2          0\n",
       "4         46000        31500              4          0"
      ]
     },
     "execution_count": 11,
     "metadata": {},
     "output_type": "execute_result"
    }
   ],
   "source": [
    "# Amostra dos dados\n",
    "le_df.head()"
   ]
  },
  {
   "cell_type": "markdown",
   "id": "b875317f",
   "metadata": {},
   "source": [
    "### \n",
    "### Criando Modelo Preditivo para Testar Efetividade do Label Encoding"
   ]
  },
  {
   "cell_type": "markdown",
   "id": "f6512f76",
   "metadata": {},
   "source": [
    "> Como analista de dados Machine Learning não é trabalho nosso, entretanto, criando um modelo simples de machine learning podemos verificar e definir o melhor encoding possível dos dados para o projeto em questão, uma vez que os dados que estamos tratando é para análise preditiva (Machine Learning)."
   ]
  },
  {
   "cell_type": "code",
   "execution_count": 12,
   "id": "d59d4088",
   "metadata": {},
   "outputs": [],
   "source": [
    "# Cria o modelo\n",
    "modelo_v1 = linear_model.LinearRegression()"
   ]
  },
  {
   "cell_type": "code",
   "execution_count": 13,
   "id": "5af8ade6",
   "metadata": {},
   "outputs": [],
   "source": [
    "# Configurando as variáveis de treinamento\n",
    "x = le_df.drop(columns=[\"Preco_Venda\"])\n",
    "y = le_df[\"Preco_Venda\"]"
   ]
  },
  {
   "cell_type": "code",
   "execution_count": 14,
   "id": "828efe9a",
   "metadata": {},
   "outputs": [
    {
     "data": {
      "text/plain": [
       "LinearRegression()"
      ]
     },
     "execution_count": 14,
     "metadata": {},
     "output_type": "execute_result"
    }
   ],
   "source": [
    "# Treinando o modelo\n",
    "modelo_v1.fit(x,y)"
   ]
  },
  {
   "cell_type": "code",
   "execution_count": 15,
   "id": "b93d7312",
   "metadata": {},
   "outputs": [
    {
     "data": {
      "text/plain": [
       "array([21097.26799326, 35669.46519981, 26161.25131906, 40888.38671831,\n",
       "       30915.35825943, 28747.22473471, 30916.35943266, 23373.3650235 ,\n",
       "       14794.78029901, 23319.88385735, 17016.39498987, 18255.90053156,\n",
       "       27144.36164147])"
      ]
     },
     "execution_count": 15,
     "metadata": {},
     "output_type": "execute_result"
    }
   ],
   "source": [
    "# Realizando previsões\n",
    "modelo_v1.predict(x)"
   ]
  },
  {
   "cell_type": "code",
   "execution_count": 16,
   "id": "b9fd6579",
   "metadata": {},
   "outputs": [
    {
     "data": {
      "text/plain": [
       "0.8803425650559955"
      ]
     },
     "execution_count": 16,
     "metadata": {},
     "output_type": "execute_result"
    }
   ],
   "source": [
    "# Verificando acurácia do modelo\n",
    "modelo_v1.score(x,y)"
   ]
  },
  {
   "cell_type": "markdown",
   "id": "e314ecc0",
   "metadata": {},
   "source": [
    "## \n",
    "## Aplicando One-Hot Encoding"
   ]
  },
  {
   "cell_type": "code",
   "execution_count": 17,
   "id": "d09c658d",
   "metadata": {},
   "outputs": [],
   "source": [
    "# Copia o df original\n",
    "ohe_df = df.copy()"
   ]
  },
  {
   "cell_type": "code",
   "execution_count": 18,
   "id": "ea382e50",
   "metadata": {},
   "outputs": [],
   "source": [
    "# Cria o objeto de One-Hot Encoding\n",
    "OHE = OneHotEncoder()"
   ]
  },
  {
   "cell_type": "code",
   "execution_count": 19,
   "id": "0bdefa72",
   "metadata": {},
   "outputs": [],
   "source": [
    "# Aplica o One-Hot Encoding e salva em um novo DataFrame\n",
    "OneHotdf = pd.DataFrame( (OHE.fit_transform(ohe_df[[\"Modelo\"]]).toarray()), columns=OHE.get_feature_names_out() )"
   ]
  },
  {
   "cell_type": "code",
   "execution_count": 20,
   "id": "46c00c30",
   "metadata": {},
   "outputs": [
    {
     "data": {
      "text/html": [
       "<div>\n",
       "<style scoped>\n",
       "    .dataframe tbody tr th:only-of-type {\n",
       "        vertical-align: middle;\n",
       "    }\n",
       "\n",
       "    .dataframe tbody tr th {\n",
       "        vertical-align: top;\n",
       "    }\n",
       "\n",
       "    .dataframe thead th {\n",
       "        text-align: right;\n",
       "    }\n",
       "</style>\n",
       "<table border=\"1\" class=\"dataframe\">\n",
       "  <thead>\n",
       "    <tr style=\"text-align: right;\">\n",
       "      <th></th>\n",
       "      <th>Modelo_Jaguar F-Type R</th>\n",
       "      <th>Modelo_Mercedez Benz AMG GLE 53</th>\n",
       "      <th>Modelo_Mustang Mach 1</th>\n",
       "    </tr>\n",
       "  </thead>\n",
       "  <tbody>\n",
       "    <tr>\n",
       "      <th>0</th>\n",
       "      <td>1.0</td>\n",
       "      <td>0.0</td>\n",
       "      <td>0.0</td>\n",
       "    </tr>\n",
       "    <tr>\n",
       "      <th>1</th>\n",
       "      <td>1.0</td>\n",
       "      <td>0.0</td>\n",
       "      <td>0.0</td>\n",
       "    </tr>\n",
       "    <tr>\n",
       "      <th>2</th>\n",
       "      <td>1.0</td>\n",
       "      <td>0.0</td>\n",
       "      <td>0.0</td>\n",
       "    </tr>\n",
       "    <tr>\n",
       "      <th>3</th>\n",
       "      <td>1.0</td>\n",
       "      <td>0.0</td>\n",
       "      <td>0.0</td>\n",
       "    </tr>\n",
       "    <tr>\n",
       "      <th>4</th>\n",
       "      <td>1.0</td>\n",
       "      <td>0.0</td>\n",
       "      <td>0.0</td>\n",
       "    </tr>\n",
       "  </tbody>\n",
       "</table>\n",
       "</div>"
      ],
      "text/plain": [
       "   Modelo_Jaguar F-Type R  Modelo_Mercedez Benz AMG GLE 53  \\\n",
       "0                     1.0                              0.0   \n",
       "1                     1.0                              0.0   \n",
       "2                     1.0                              0.0   \n",
       "3                     1.0                              0.0   \n",
       "4                     1.0                              0.0   \n",
       "\n",
       "   Modelo_Mustang Mach 1  \n",
       "0                    0.0  \n",
       "1                    0.0  \n",
       "2                    0.0  \n",
       "3                    0.0  \n",
       "4                    0.0  "
      ]
     },
     "execution_count": 20,
     "metadata": {},
     "output_type": "execute_result"
    }
   ],
   "source": [
    "# Amostra dos dados com One-Hot Encoding aplicado\n",
    "OneHotdf.head()"
   ]
  },
  {
   "cell_type": "code",
   "execution_count": 21,
   "id": "4ac26fb5",
   "metadata": {},
   "outputs": [],
   "source": [
    "# Concatenando os DataFrames\n",
    "ohe_df = pd.concat([ohe_df, OneHotdf], axis=1)"
   ]
  },
  {
   "cell_type": "code",
   "execution_count": 22,
   "id": "a6623147",
   "metadata": {},
   "outputs": [
    {
     "data": {
      "text/html": [
       "<div>\n",
       "<style scoped>\n",
       "    .dataframe tbody tr th:only-of-type {\n",
       "        vertical-align: middle;\n",
       "    }\n",
       "\n",
       "    .dataframe tbody tr th {\n",
       "        vertical-align: top;\n",
       "    }\n",
       "\n",
       "    .dataframe thead th {\n",
       "        text-align: right;\n",
       "    }\n",
       "</style>\n",
       "<table border=\"1\" class=\"dataframe\">\n",
       "  <thead>\n",
       "    <tr style=\"text-align: right;\">\n",
       "      <th></th>\n",
       "      <th>Modelo</th>\n",
       "      <th>Kilometragem</th>\n",
       "      <th>Preco_Venda</th>\n",
       "      <th>Idade_Veiculo</th>\n",
       "      <th>Modelo_Jaguar F-Type R</th>\n",
       "      <th>Modelo_Mercedez Benz AMG GLE 53</th>\n",
       "      <th>Modelo_Mustang Mach 1</th>\n",
       "    </tr>\n",
       "  </thead>\n",
       "  <tbody>\n",
       "    <tr>\n",
       "      <th>0</th>\n",
       "      <td>Jaguar F-Type R</td>\n",
       "      <td>69000</td>\n",
       "      <td>18000</td>\n",
       "      <td>6</td>\n",
       "      <td>1.0</td>\n",
       "      <td>0.0</td>\n",
       "      <td>0.0</td>\n",
       "    </tr>\n",
       "    <tr>\n",
       "      <th>1</th>\n",
       "      <td>Jaguar F-Type R</td>\n",
       "      <td>35000</td>\n",
       "      <td>34000</td>\n",
       "      <td>3</td>\n",
       "      <td>1.0</td>\n",
       "      <td>0.0</td>\n",
       "      <td>0.0</td>\n",
       "    </tr>\n",
       "    <tr>\n",
       "      <th>2</th>\n",
       "      <td>Jaguar F-Type R</td>\n",
       "      <td>57000</td>\n",
       "      <td>26100</td>\n",
       "      <td>5</td>\n",
       "      <td>1.0</td>\n",
       "      <td>0.0</td>\n",
       "      <td>0.0</td>\n",
       "    </tr>\n",
       "    <tr>\n",
       "      <th>3</th>\n",
       "      <td>Jaguar F-Type R</td>\n",
       "      <td>22500</td>\n",
       "      <td>40000</td>\n",
       "      <td>2</td>\n",
       "      <td>1.0</td>\n",
       "      <td>0.0</td>\n",
       "      <td>0.0</td>\n",
       "    </tr>\n",
       "    <tr>\n",
       "      <th>4</th>\n",
       "      <td>Jaguar F-Type R</td>\n",
       "      <td>46000</td>\n",
       "      <td>31500</td>\n",
       "      <td>4</td>\n",
       "      <td>1.0</td>\n",
       "      <td>0.0</td>\n",
       "      <td>0.0</td>\n",
       "    </tr>\n",
       "    <tr>\n",
       "      <th>5</th>\n",
       "      <td>Mustang Mach 1</td>\n",
       "      <td>59000</td>\n",
       "      <td>29400</td>\n",
       "      <td>5</td>\n",
       "      <td>0.0</td>\n",
       "      <td>0.0</td>\n",
       "      <td>1.0</td>\n",
       "    </tr>\n",
       "    <tr>\n",
       "      <th>6</th>\n",
       "      <td>Mustang Mach 1</td>\n",
       "      <td>52000</td>\n",
       "      <td>32000</td>\n",
       "      <td>5</td>\n",
       "      <td>0.0</td>\n",
       "      <td>0.0</td>\n",
       "      <td>1.0</td>\n",
       "    </tr>\n",
       "    <tr>\n",
       "      <th>7</th>\n",
       "      <td>Mustang Mach 1</td>\n",
       "      <td>72000</td>\n",
       "      <td>19300</td>\n",
       "      <td>6</td>\n",
       "      <td>0.0</td>\n",
       "      <td>0.0</td>\n",
       "      <td>1.0</td>\n",
       "    </tr>\n",
       "    <tr>\n",
       "      <th>8</th>\n",
       "      <td>Mustang Mach 1</td>\n",
       "      <td>91000</td>\n",
       "      <td>12000</td>\n",
       "      <td>8</td>\n",
       "      <td>0.0</td>\n",
       "      <td>0.0</td>\n",
       "      <td>1.0</td>\n",
       "    </tr>\n",
       "    <tr>\n",
       "      <th>9</th>\n",
       "      <td>Mercedez Benz AMG GLE 53</td>\n",
       "      <td>67000</td>\n",
       "      <td>22000</td>\n",
       "      <td>6</td>\n",
       "      <td>0.0</td>\n",
       "      <td>1.0</td>\n",
       "      <td>0.0</td>\n",
       "    </tr>\n",
       "    <tr>\n",
       "      <th>10</th>\n",
       "      <td>Mercedez Benz AMG GLE 53</td>\n",
       "      <td>83000</td>\n",
       "      <td>20000</td>\n",
       "      <td>7</td>\n",
       "      <td>0.0</td>\n",
       "      <td>1.0</td>\n",
       "      <td>0.0</td>\n",
       "    </tr>\n",
       "    <tr>\n",
       "      <th>11</th>\n",
       "      <td>Mercedez Benz AMG GLE 53</td>\n",
       "      <td>79000</td>\n",
       "      <td>21000</td>\n",
       "      <td>7</td>\n",
       "      <td>0.0</td>\n",
       "      <td>1.0</td>\n",
       "      <td>0.0</td>\n",
       "    </tr>\n",
       "    <tr>\n",
       "      <th>12</th>\n",
       "      <td>Mercedez Benz AMG GLE 53</td>\n",
       "      <td>59000</td>\n",
       "      <td>33000</td>\n",
       "      <td>5</td>\n",
       "      <td>0.0</td>\n",
       "      <td>1.0</td>\n",
       "      <td>0.0</td>\n",
       "    </tr>\n",
       "  </tbody>\n",
       "</table>\n",
       "</div>"
      ],
      "text/plain": [
       "                      Modelo  Kilometragem  Preco_Venda  Idade_Veiculo  \\\n",
       "0            Jaguar F-Type R         69000        18000              6   \n",
       "1            Jaguar F-Type R         35000        34000              3   \n",
       "2            Jaguar F-Type R         57000        26100              5   \n",
       "3            Jaguar F-Type R         22500        40000              2   \n",
       "4            Jaguar F-Type R         46000        31500              4   \n",
       "5             Mustang Mach 1         59000        29400              5   \n",
       "6             Mustang Mach 1         52000        32000              5   \n",
       "7             Mustang Mach 1         72000        19300              6   \n",
       "8             Mustang Mach 1         91000        12000              8   \n",
       "9   Mercedez Benz AMG GLE 53         67000        22000              6   \n",
       "10  Mercedez Benz AMG GLE 53         83000        20000              7   \n",
       "11  Mercedez Benz AMG GLE 53         79000        21000              7   \n",
       "12  Mercedez Benz AMG GLE 53         59000        33000              5   \n",
       "\n",
       "    Modelo_Jaguar F-Type R  Modelo_Mercedez Benz AMG GLE 53  \\\n",
       "0                      1.0                              0.0   \n",
       "1                      1.0                              0.0   \n",
       "2                      1.0                              0.0   \n",
       "3                      1.0                              0.0   \n",
       "4                      1.0                              0.0   \n",
       "5                      0.0                              0.0   \n",
       "6                      0.0                              0.0   \n",
       "7                      0.0                              0.0   \n",
       "8                      0.0                              0.0   \n",
       "9                      0.0                              1.0   \n",
       "10                     0.0                              1.0   \n",
       "11                     0.0                              1.0   \n",
       "12                     0.0                              1.0   \n",
       "\n",
       "    Modelo_Mustang Mach 1  \n",
       "0                     0.0  \n",
       "1                     0.0  \n",
       "2                     0.0  \n",
       "3                     0.0  \n",
       "4                     0.0  \n",
       "5                     1.0  \n",
       "6                     1.0  \n",
       "7                     1.0  \n",
       "8                     1.0  \n",
       "9                     0.0  \n",
       "10                    0.0  \n",
       "11                    0.0  \n",
       "12                    0.0  "
      ]
     },
     "execution_count": 22,
     "metadata": {},
     "output_type": "execute_result"
    }
   ],
   "source": [
    "# Visualizando os dados após aplicado One-Hot Encoding\n",
    "ohe_df"
   ]
  },
  {
   "cell_type": "code",
   "execution_count": 23,
   "id": "db668878",
   "metadata": {},
   "outputs": [],
   "source": [
    "# Removendo a variável original\n",
    "ohe_df.drop(columns=\"Modelo\", inplace=True)"
   ]
  },
  {
   "cell_type": "markdown",
   "id": "f65b6ec0",
   "metadata": {},
   "source": [
    "### \n",
    "### Criando Modelo Preditivo para Testar Efetividade do One-Hot Encoding"
   ]
  },
  {
   "cell_type": "code",
   "execution_count": 24,
   "id": "91fd1b8c",
   "metadata": {},
   "outputs": [],
   "source": [
    "# Cria o modelo\n",
    "modelo_v2 = linear_model.LinearRegression()"
   ]
  },
  {
   "cell_type": "code",
   "execution_count": 25,
   "id": "721381a1",
   "metadata": {},
   "outputs": [],
   "source": [
    "# Configurando as variáveis de treinamento\n",
    "x = ohe_df.drop(columns=[\"Preco_Venda\"])\n",
    "y = ohe_df[\"Preco_Venda\"]"
   ]
  },
  {
   "cell_type": "code",
   "execution_count": 26,
   "id": "a12d7733",
   "metadata": {},
   "outputs": [
    {
     "data": {
      "text/plain": [
       "LinearRegression()"
      ]
     },
     "execution_count": 26,
     "metadata": {},
     "output_type": "execute_result"
    }
   ],
   "source": [
    "# Treinando o modelo\n",
    "modelo_v2.fit(x,y)"
   ]
  },
  {
   "cell_type": "code",
   "execution_count": 27,
   "id": "e2a371b3",
   "metadata": {},
   "outputs": [
    {
     "data": {
      "text/plain": [
       "array([18705.2723644 , 35286.78445645, 24479.19112468, 41245.76426391,\n",
       "       29882.98779056, 28023.6135243 , 30614.46818502, 21879.57266964,\n",
       "       12182.34562104, 26183.72387884, 18929.31674102, 20409.80511857,\n",
       "       30477.15426156])"
      ]
     },
     "execution_count": 27,
     "metadata": {},
     "output_type": "execute_result"
    }
   ],
   "source": [
    "# Realizando previsões\n",
    "modelo_v2.predict(x)"
   ]
  },
  {
   "cell_type": "code",
   "execution_count": 28,
   "id": "33f0879a",
   "metadata": {},
   "outputs": [
    {
     "data": {
      "text/plain": [
       "0.9417050937281082"
      ]
     },
     "execution_count": 28,
     "metadata": {},
     "output_type": "execute_result"
    }
   ],
   "source": [
    "# Verificando acurácia do modelo\n",
    "modelo_v2.score(x,y)"
   ]
  },
  {
   "cell_type": "markdown",
   "id": "14b7781d",
   "metadata": {},
   "source": [
    "## \n",
    "## Padronizando os Dados para Melhor Performance"
   ]
  },
  {
   "cell_type": "code",
   "execution_count": 29,
   "id": "c0290f7c",
   "metadata": {},
   "outputs": [],
   "source": [
    "# Copia do df original\n",
    "df_final = df.copy()"
   ]
  },
  {
   "cell_type": "code",
   "execution_count": 30,
   "id": "e275a75b",
   "metadata": {},
   "outputs": [],
   "source": [
    "# Cria o objeto de padronização dos dados e One-Hot Encoding\n",
    "OHencoding = ColumnTransformer( [('Modelo', OneHotEncoder(), [0])], remainder=\"passthrough\" )"
   ]
  },
  {
   "cell_type": "code",
   "execution_count": 31,
   "id": "832c8318",
   "metadata": {},
   "outputs": [],
   "source": [
    "# Aplica o One-Hot encoding e a padronização nos dados\n",
    "x = OHencoding.fit_transform(df_final.drop(columns=[\"Preco_Venda\"]))"
   ]
  },
  {
   "cell_type": "code",
   "execution_count": 32,
   "id": "aefb8f25",
   "metadata": {},
   "outputs": [],
   "source": [
    "# Variável alvo\n",
    "y = df_final[\"Preco_Venda\"]"
   ]
  },
  {
   "cell_type": "markdown",
   "id": "f127ed81",
   "metadata": {},
   "source": [
    "### \n",
    "### Criando Modelo Preditivo para Testar Efetividade do One-Hot Encoding com os Dados Padronizados"
   ]
  },
  {
   "cell_type": "code",
   "execution_count": 33,
   "id": "66b32e78",
   "metadata": {},
   "outputs": [],
   "source": [
    "# Cria o modelo\n",
    "modelo_v3 = linear_model.LinearRegression()"
   ]
  },
  {
   "cell_type": "code",
   "execution_count": 34,
   "id": "5649d59b",
   "metadata": {},
   "outputs": [
    {
     "data": {
      "text/plain": [
       "LinearRegression()"
      ]
     },
     "execution_count": 34,
     "metadata": {},
     "output_type": "execute_result"
    }
   ],
   "source": [
    "# Treina o modelo\n",
    "modelo_v3.fit(x,y)"
   ]
  },
  {
   "cell_type": "code",
   "execution_count": 35,
   "id": "2f68ae34",
   "metadata": {},
   "outputs": [
    {
     "data": {
      "text/plain": [
       "array([18705.2723644 , 35286.78445645, 24479.19112468, 41245.76426392,\n",
       "       29882.98779057, 28023.6135243 , 30614.46818502, 21879.57266964,\n",
       "       12182.34562103, 26183.72387884, 18929.31674101, 20409.80511857,\n",
       "       30477.15426156])"
      ]
     },
     "execution_count": 35,
     "metadata": {},
     "output_type": "execute_result"
    }
   ],
   "source": [
    "# Realizando previsões\n",
    "modelo_v3.predict(x)"
   ]
  },
  {
   "cell_type": "code",
   "execution_count": 36,
   "id": "d7a9d67d",
   "metadata": {},
   "outputs": [
    {
     "data": {
      "text/plain": [
       "0.9417050937281082"
      ]
     },
     "execution_count": 36,
     "metadata": {},
     "output_type": "execute_result"
    }
   ],
   "source": [
    "# Verificando acurácia do modelo\n",
    "modelo_v3.score(x,y)"
   ]
  },
  {
   "cell_type": "markdown",
   "id": "99f28746",
   "metadata": {},
   "source": [
    "## \n",
    "## Salvando os Dados Após o Tratamento"
   ]
  },
  {
   "cell_type": "code",
   "execution_count": 37,
   "id": "9a12d34b",
   "metadata": {},
   "outputs": [
    {
     "data": {
      "text/plain": [
       "['modelo/modelo_treinado.joblib']"
      ]
     },
     "execution_count": 37,
     "metadata": {},
     "output_type": "execute_result"
    }
   ],
   "source": [
    "# Salva os dados após encoding\n",
    "ohe_df.to_csv(\"dados/dataset_tratado.csv\", index=False)\n",
    "\n",
    "# Salva o modelo\n",
    "joblib.dump(modelo_v3, \"modelo/modelo_treinado.joblib\")"
   ]
  },
  {
   "cell_type": "markdown",
   "id": "00ac2569",
   "metadata": {},
   "source": [
    "## \n",
    "## Conclusão"
   ]
  },
  {
   "cell_type": "markdown",
   "id": "f7abf621",
   "metadata": {},
   "source": [
    "Com base nos testes realizados podemos concluir que o melhor encoding a ser adotado para esse conjunto de dados seria o **One-Hot Encoding**, uma vez que o mesmo se mostrou mais performático em relação aos outros. Nos testes também realizei a padronização dos dados com One-Hot Encoding, entretanto, a acurácia foi a mesma do modelo que não havia sido padronizado, muito provavelmente devido o conjunto de dados ser pequeno, portanto, caso o conjunto de dados fosse maior, provavelmente a eficiência do modelo seria melhor."
   ]
  }
 ],
 "metadata": {
  "kernelspec": {
   "display_name": "Python 3 (ipykernel)",
   "language": "python",
   "name": "python3"
  },
  "language_info": {
   "codemirror_mode": {
    "name": "ipython",
    "version": 3
   },
   "file_extension": ".py",
   "mimetype": "text/x-python",
   "name": "python",
   "nbconvert_exporter": "python",
   "pygments_lexer": "ipython3",
   "version": "3.9.13"
  }
 },
 "nbformat": 4,
 "nbformat_minor": 5
}
